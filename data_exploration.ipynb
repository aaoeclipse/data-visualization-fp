{
 "cells": [
  {
   "cell_type": "code",
   "execution_count": 2,
   "metadata": {},
   "outputs": [],
   "source": [
    "import pandas as pd"
   ]
  },
  {
   "cell_type": "code",
   "execution_count": 7,
   "metadata": {},
   "outputs": [],
   "source": [
    "df = pd.read_csv('./data/crimes.csv')"
   ]
  },
  {
   "cell_type": "code",
   "execution_count": 9,
   "metadata": {},
   "outputs": [
    {
     "data": {
      "text/plain": [
       "Index(['id', 'case_number', 'date', 'block', 'iucr', 'primary_type',\n",
       "       'description', 'location_description', 'arrest', 'domestic', 'beat',\n",
       "       'district', 'ward', 'community_area', 'fbi_code', 'x_coordinate',\n",
       "       'y_coordinate', 'year', 'updated_on', 'latitude', 'longitude',\n",
       "       'location'],\n",
       "      dtype='object')"
      ]
     },
     "execution_count": 9,
     "metadata": {},
     "output_type": "execute_result"
    }
   ],
   "source": [
    "df.columns"
   ]
  },
  {
   "cell_type": "code",
   "execution_count": 10,
   "metadata": {},
   "outputs": [
    {
     "name": "stdout",
     "output_type": "stream",
     "text": [
      "<class 'pandas.core.frame.DataFrame'>\n",
      "RangeIndex: 25000 entries, 0 to 24999\n",
      "Data columns (total 22 columns):\n",
      " #   Column                Non-Null Count  Dtype  \n",
      "---  ------                --------------  -----  \n",
      " 0   id                    25000 non-null  int64  \n",
      " 1   case_number           25000 non-null  object \n",
      " 2   date                  25000 non-null  object \n",
      " 3   block                 25000 non-null  object \n",
      " 4   iucr                  25000 non-null  object \n",
      " 5   primary_type          25000 non-null  object \n",
      " 6   description           25000 non-null  object \n",
      " 7   location_description  24916 non-null  object \n",
      " 8   arrest                25000 non-null  bool   \n",
      " 9   domestic              25000 non-null  bool   \n",
      " 10  beat                  25000 non-null  int64  \n",
      " 11  district              25000 non-null  int64  \n",
      " 12  ward                  24999 non-null  float64\n",
      " 13  community_area        24999 non-null  float64\n",
      " 14  fbi_code              25000 non-null  object \n",
      " 15  x_coordinate          25000 non-null  int64  \n",
      " 16  y_coordinate          25000 non-null  int64  \n",
      " 17  year                  25000 non-null  int64  \n",
      " 18  updated_on            25000 non-null  object \n",
      " 19  latitude              25000 non-null  float64\n",
      " 20  longitude             25000 non-null  float64\n",
      " 21  location              25000 non-null  object \n",
      "dtypes: bool(2), float64(4), int64(6), object(10)\n",
      "memory usage: 3.9+ MB\n"
     ]
    }
   ],
   "source": [
    "df.info()"
   ]
  },
  {
   "cell_type": "code",
   "execution_count": null,
   "metadata": {},
   "outputs": [],
   "source": []
  }
 ],
 "metadata": {
  "kernelspec": {
   "display_name": "Python 3.6.9 64-bit",
   "language": "python",
   "name": "python3"
  },
  "language_info": {
   "codemirror_mode": {
    "name": "ipython",
    "version": 3
   },
   "file_extension": ".py",
   "mimetype": "text/x-python",
   "name": "python",
   "nbconvert_exporter": "python",
   "pygments_lexer": "ipython3",
   "version": "3.10.4"
  },
  "orig_nbformat": 4,
  "vscode": {
   "interpreter": {
    "hash": "31f2aee4e71d21fbe5cf8b01ff0e069b9275f58929596ceb00d14d90e3e16cd6"
   }
  }
 },
 "nbformat": 4,
 "nbformat_minor": 2
}
